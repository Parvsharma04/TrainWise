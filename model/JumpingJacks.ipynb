{
 "cells": [
  {
   "cell_type": "code",
   "execution_count": 3,
   "metadata": {},
   "outputs": [
    {
     "name": "stdout",
     "output_type": "stream",
     "text": [
      "Requirement already satisfied: mediapipe in c:\\users\\parv\\appdata\\local\\programs\\python\\python310\\lib\\site-packages (0.10.21)\n",
      "Requirement already satisfied: opencv-python in c:\\users\\parv\\appdata\\local\\programs\\python\\python310\\lib\\site-packages (4.11.0.86)\n",
      "Requirement already satisfied: opencv-contrib-python in c:\\users\\parv\\appdata\\local\\programs\\python\\python310\\lib\\site-packages (from mediapipe) (4.11.0.86)\n",
      "Requirement already satisfied: protobuf<5,>=4.25.3 in c:\\users\\parv\\appdata\\local\\programs\\python\\python310\\lib\\site-packages (from mediapipe) (4.25.6)\n",
      "Requirement already satisfied: numpy<2 in c:\\users\\parv\\appdata\\local\\programs\\python\\python310\\lib\\site-packages (from mediapipe) (1.26.4)\n",
      "Requirement already satisfied: jax in c:\\users\\parv\\appdata\\local\\programs\\python\\python310\\lib\\site-packages (from mediapipe) (0.5.0)\n",
      "Requirement already satisfied: sounddevice>=0.4.4 in c:\\users\\parv\\appdata\\local\\programs\\python\\python310\\lib\\site-packages (from mediapipe) (0.5.1)\n",
      "Requirement already satisfied: jaxlib in c:\\users\\parv\\appdata\\local\\programs\\python\\python310\\lib\\site-packages (from mediapipe) (0.5.0)\n",
      "Requirement already satisfied: sentencepiece in c:\\users\\parv\\appdata\\local\\programs\\python\\python310\\lib\\site-packages (from mediapipe) (0.2.0)\n",
      "Requirement already satisfied: matplotlib in c:\\users\\parv\\appdata\\local\\programs\\python\\python310\\lib\\site-packages (from mediapipe) (3.10.0)\n",
      "Requirement already satisfied: attrs>=19.1.0 in c:\\users\\parv\\appdata\\local\\programs\\python\\python310\\lib\\site-packages (from mediapipe) (25.1.0)\n",
      "Requirement already satisfied: flatbuffers>=2.0 in c:\\users\\parv\\appdata\\local\\programs\\python\\python310\\lib\\site-packages (from mediapipe) (25.2.10)\n",
      "Requirement already satisfied: absl-py in c:\\users\\parv\\appdata\\local\\programs\\python\\python310\\lib\\site-packages (from mediapipe) (2.1.0)\n",
      "Requirement already satisfied: CFFI>=1.0 in c:\\users\\parv\\appdata\\local\\programs\\python\\python310\\lib\\site-packages (from sounddevice>=0.4.4->mediapipe) (1.17.1)\n",
      "Requirement already satisfied: pycparser in c:\\users\\parv\\appdata\\local\\programs\\python\\python310\\lib\\site-packages (from CFFI>=1.0->sounddevice>=0.4.4->mediapipe) (2.22)\n",
      "Requirement already satisfied: scipy>=1.11.1 in c:\\users\\parv\\appdata\\local\\programs\\python\\python310\\lib\\site-packages (from jax->mediapipe) (1.15.1)\n",
      "Requirement already satisfied: ml_dtypes>=0.4.0 in c:\\users\\parv\\appdata\\local\\programs\\python\\python310\\lib\\site-packages (from jax->mediapipe) (0.5.1)\n",
      "Requirement already satisfied: opt_einsum in c:\\users\\parv\\appdata\\local\\programs\\python\\python310\\lib\\site-packages (from jax->mediapipe) (3.4.0)\n",
      "Requirement already satisfied: kiwisolver>=1.3.1 in c:\\users\\parv\\appdata\\local\\programs\\python\\python310\\lib\\site-packages (from matplotlib->mediapipe) (1.4.8)\n",
      "Requirement already satisfied: pyparsing>=2.3.1 in c:\\users\\parv\\appdata\\local\\programs\\python\\python310\\lib\\site-packages (from matplotlib->mediapipe) (3.2.1)\n",
      "Requirement already satisfied: fonttools>=4.22.0 in c:\\users\\parv\\appdata\\local\\programs\\python\\python310\\lib\\site-packages (from matplotlib->mediapipe) (4.56.0)\n",
      "Requirement already satisfied: python-dateutil>=2.7 in c:\\users\\parv\\appdata\\roaming\\python\\python310\\site-packages (from matplotlib->mediapipe) (2.9.0.post0)\n",
      "Requirement already satisfied: contourpy>=1.0.1 in c:\\users\\parv\\appdata\\local\\programs\\python\\python310\\lib\\site-packages (from matplotlib->mediapipe) (1.3.1)\n",
      "Requirement already satisfied: cycler>=0.10 in c:\\users\\parv\\appdata\\local\\programs\\python\\python310\\lib\\site-packages (from matplotlib->mediapipe) (0.12.1)\n",
      "Requirement already satisfied: packaging>=20.0 in c:\\users\\parv\\appdata\\roaming\\python\\python310\\site-packages (from matplotlib->mediapipe) (24.2)\n",
      "Requirement already satisfied: pillow>=8 in c:\\users\\parv\\appdata\\local\\programs\\python\\python310\\lib\\site-packages (from matplotlib->mediapipe) (11.1.0)\n",
      "Requirement already satisfied: six>=1.5 in c:\\users\\parv\\appdata\\roaming\\python\\python310\\site-packages (from python-dateutil>=2.7->matplotlib->mediapipe) (1.17.0)\n",
      "Note: you may need to restart the kernel to use updated packages.\n"
     ]
    },
    {
     "name": "stderr",
     "output_type": "stream",
     "text": [
      "WARNING: You are using pip version 21.2.3; however, version 25.0.1 is available.\n",
      "You should consider upgrading via the 'c:\\Users\\PARV\\AppData\\Local\\Programs\\Python\\Python310\\python.exe -m pip install --upgrade pip' command.\n"
     ]
    }
   ],
   "source": [
    "%pip install mediapipe opencv-python"
   ]
  },
  {
   "cell_type": "code",
   "execution_count": null,
   "metadata": {},
   "outputs": [],
   "source": [
    "import cv2\n",
    "import mediapipe as mp\n",
    "import numpy as np\n",
    "\n",
    "# Initialize Mediapipe Pose\n",
    "mp_pose = mp.solutions.pose\n",
    "mp_drawing = mp.solutions.drawing_utils\n",
    "pose = mp_pose.Pose()\n",
    "\n",
    "# Jumping Jack counter and state\n",
    "jumping_jack_counter = {'count': 0, 'state': 'closed'}\n",
    "\n",
    "cap = cv2.VideoCapture(0)\n",
    "while cap.isOpened():\n",
    "    ret, frame = cap.read()\n",
    "    if not ret:\n",
    "        break\n",
    "\n",
    "    frame = cv2.flip(frame, 1)\n",
    "    image = cv2.cvtColor(frame, cv2.COLOR_BGR2RGB)\n",
    "    results = pose.process(image)\n",
    "    image = cv2.cvtColor(image, cv2.COLOR_RGB2BGR)\n",
    "\n",
    "    if results.pose_landmarks:\n",
    "        mp_drawing.draw_landmarks(image, results.pose_landmarks, mp_pose.POSE_CONNECTIONS)\n",
    "        landmarks = results.pose_landmarks.landmark\n",
    "\n",
    "        # Detect hand and leg positions\n",
    "        left_wrist, right_wrist = landmarks[mp_pose.PoseLandmark.LEFT_WRIST], landmarks[mp_pose.PoseLandmark.RIGHT_WRIST]\n",
    "        left_ankle, right_ankle = landmarks[mp_pose.PoseLandmark.LEFT_ANKLE], landmarks[mp_pose.PoseLandmark.RIGHT_ANKLE]\n",
    "\n",
    "        hand_distance = abs(left_wrist.x - right_wrist.x)\n",
    "        foot_distance = abs(left_ankle.x - right_ankle.x)\n",
    "\n",
    "        if hand_distance > 0.4 and foot_distance > 0.4 and jumping_jack_counter['state'] == 'closed':\n",
    "            jumping_jack_counter['state'] = 'open'\n",
    "        elif hand_distance < 0.2 and foot_distance < 0.2 and jumping_jack_counter['state'] == 'open':\n",
    "            jumping_jack_counter['state'] = 'closed'\n",
    "            jumping_jack_counter['count'] += 1\n",
    "\n",
    "        # Display count\n",
    "        cv2.putText(image, f\"Jumping Jacks: {jumping_jack_counter['count']}\", (50, 50),\n",
    "                    cv2.FONT_HERSHEY_SIMPLEX, 1, (255, 0, 0), 2, cv2.LINE_AA)\n",
    "\n",
    "    cv2.imshow('Jumping Jack Tracker', image)\n",
    "\n",
    "    if cv2.waitKey(10) & 0xFF == ord('q'):\n",
    "        break\n",
    "\n",
    "cap.release()\n",
    "cv2.destroyAllWindows()\n"
   ]
  }
 ],
 "metadata": {
  "kernelspec": {
   "display_name": "Python 3",
   "language": "python",
   "name": "python3"
  },
  "language_info": {
   "codemirror_mode": {
    "name": "ipython",
    "version": 3
   },
   "file_extension": ".py",
   "mimetype": "text/x-python",
   "name": "python",
   "nbconvert_exporter": "python",
   "pygments_lexer": "ipython3",
   "version": "3.10.0"
  }
 },
 "nbformat": 4,
 "nbformat_minor": 2
}
